{
 "cells": [
  {
   "cell_type": "code",
   "execution_count": null,
   "metadata": {},
   "outputs": [],
   "source": [
    "import torch\n",
    "from torch import nn\n",
    "import torch.nn.functional as F\n",
    "from torch import optim\n",
    "from torch.utils.data import DataLoader\n",
    "import pandas as pd\n",
    "from tqdm.notebook import tqdm\n",
    "import matplotlib.pyplot as plt\n",
    "import numpy as np\n",
    "from IPython.display import display\n",
    "from pathlib import Path\n",
    "from torch.utils.tensorboard import SummaryWriter\n",
    "from IPython.display import HTML\n",
    "from collections import OrderedDict\n",
    "%matplotlib inline\n",
    "torch.manual_seed(1)\n",
    "pd.set_option(\"display.precision\", 8)\n",
    "device = torch.device(\"cuda:0\" if torch.cuda.is_available() else \"cpu\")"
   ]
  },
  {
   "cell_type": "markdown",
   "metadata": {},
   "source": [
    "## Preprocessing"
   ]
  },
  {
   "cell_type": "code",
   "execution_count": null,
   "metadata": {
    "scrolled": true
   },
   "outputs": [],
   "source": [
    "# Load Data\n",
    "SFX_BTC_df = pd.read_csv(f'data/SFX_BTC_minute.csv')\n",
    "BTC_RSD_df = pd.read_csv(f'data/BTC_RSD_minute.csv')\n",
    "ETH_BTC_df = pd.read_csv(f'data/ETH_BTC_minute.csv')\n",
    "ETH_RSD_df = pd.read_csv(f'data/ETH_RSD_minute.csv')\n",
    "SFT_RSD_df = pd.read_csv(f'data/SFT_RSD_minute.csv')\n",
    "SFX_RSD_df = pd.read_csv(f'data/SFX_RSD_minute.csv')\n",
    "\n",
    "# Make example dataframe for our timerange to make sure we don't have any duplicates\n",
    "empty_daterange = pd.date_range(start='2019-06-26 00:00', end='2020-05-25 00:00', freq='T')\n",
    "df = pd.DataFrame(index=empty_daterange, columns=['A'])\n",
    "display(df)\n",
    "\n",
    "# Load data into dictionary to make it easier to create the master dataframe later\n",
    "df_dict = {'SFX_BTC': SFX_BTC_df, \n",
    "           'BTC_RSD': BTC_RSD_df, \n",
    "           'ETH_BTC': ETH_BTC_df, \n",
    "           'ETH_RSD': ETH_RSD_df, \n",
    "           'SFT_RSD': SFT_RSD_df, \n",
    "           'SFX_RSD': SFX_RSD_df}\n",
    "\n",
    "# Sort by longest to preserve data when aligning with example df\n",
    "df_dict = OrderedDict(sorted(df_dict.items(), key=len, reverse=True))\n",
    "\n",
    "for i, k in enumerate(df_dict):\n",
    "    # Set index to datetime\n",
    "    df_dict[k].index = pd.to_datetime(df_dict[k]['timestamp']).rename('').dt.tz_localize(None)\n",
    "    # Drop timestamp axis since we already used set it to the index\n",
    "    df_dict[k].drop(['timestamp'], axis=1, inplace=True)\n",
    "    # Fill NA values with the previous row\n",
    "    df_dict[k].fillna(method='ffill', inplace=True)\n",
    "    # Normalize DF length\n",
    "    df_dict[k] = df_dict[k]['2019-06-26 00:00':'2020-05-25 00:00']\n",
    "    # Align Dates\n",
    "    _, df_dict[k] = df.align(df_dict[k], join='inner', axis=0, method='ffill')\n",
    "    # Fill the NA quantity values\n",
    "    df_dict[k]['quantity'].fillna(0, inplace=True)\n",
    "    # Remove duplicate indices\n",
    "    df_dict[k] = df_dict[k].loc[~df_dict[k].index.duplicated(keep='last')]\n",
    "    display(df_dict[k])\n"
   ]
  },
  {
   "cell_type": "code",
   "execution_count": null,
   "metadata": {},
   "outputs": [],
   "source": [
    "dataset_df = pd.DataFrame(index=['SFX_BTC', 'BTC_RSD', 'ETH_BTC', \n",
    "                                 'ETH_RSD', 'SFT_RSD', 'SFX_RSD'], \n",
    "                          columns=SFX_BTC_df.columns)\n",
    "for i, k in enumerate(df_dict):\n",
    "    dataset_df.loc[k] = pd.Series({'open':df_dict[k]['open'].to_numpy(),\n",
    "                                   'high':df_dict[k]['high'].to_numpy(),\n",
    "                                   'low':df_dict[k]['low'].to_numpy(), \n",
    "                                   'close':df_dict[k]['close'].to_numpy(),\n",
    "                                   'count':df_dict[k]['count'].to_numpy(),\n",
    "                                   'volume':df_dict[k]['volume'].to_numpy(),\n",
    "                                   'quantity':df_dict[k]['quantity'].to_numpy()})\n"
   ]
  },
  {
   "cell_type": "code",
   "execution_count": null,
   "metadata": {},
   "outputs": [],
   "source": [
    "dataset_df"
   ]
  },
  {
   "cell_type": "code",
   "execution_count": null,
   "metadata": {},
   "outputs": [],
   "source": [
    "def create_x(input_df, window_size):\n",
    "    close_value = np.stack(input_df['close'].to_numpy(), axis=1)[:-1]\n",
    "    open_value = np.stack(input_df['open'].to_numpy(), axis=1)[:-1]\n",
    "    high_value = np.stack(input_df['high'].to_numpy(), axis=1)[:-1]\n",
    "    low_value = np.stack(input_df['low'].to_numpy(), axis=1)[:-1]\n",
    "    V_t = (open_value/close_value[-1])\n",
    "    V_t_high = (high_value/close_value[-1])\n",
    "    V_t_low = (low_value/close_value[-1])\n",
    "    X_t = torch.from_numpy(np.stack([V_t, V_t_high, V_t_low], axis=0).T)\n",
    "    X_t = np.split(X_t, window_size, axis=1)\n",
    "    return X_t"
   ]
  },
  {
   "cell_type": "code",
   "execution_count": null,
   "metadata": {
    "scrolled": true
   },
   "outputs": [],
   "source": [
    "# Create our input\n",
    "X = create_x(dataset_df, 167)\n",
    "X_test = X[-int(len(X)*0.20):]\n",
    "X_train = X[:-int(len(X)*0.20)]\n",
    "\n",
    "# Create our inital weights\n",
    "w_0 = np.zeros_like([X_t[0].shape[1]]).T\n",
    "# Set first value to 1 as described in the paper\n",
    "w_0[0] = 1\n",
    "W_0 = torch.from_numpy(w_0).T\n",
    "\n",
    "# Create our cash bias\n",
    "cash_bias = torch.ones(X_t[0].shape[1], 1)\n",
    "\n",
    "# Create our dataloaders\n",
    "test_loader = DataLoader(X_test, batch_size=8)\n",
    "train_loader = DataLoader(X_train, batch_size=8)"
   ]
  },
  {
   "cell_type": "markdown",
   "metadata": {},
   "source": [
    "## Model"
   ]
  },
  {
   "cell_type": "code",
   "execution_count": null,
   "metadata": {},
   "outputs": [],
   "source": [
    "class DPM_CNN(torch.nn.Module):\n",
    "    def __init__(self, w_last, cash_bias):\n",
    "        super().__init__()\n",
    "        self.w_last = w_last \n",
    "        self.cash_bias = cash_bias\n",
    "        self.conv1 = nn.Conv2d(3, 2, kernel_size=(1,3))\n",
    "        self.conv2 = nn.Conv2d(2, 20, kernel_size=(1,2878))\n",
    "        self.conv3 = nn.Conv2d(20, 1, kernel_size=(1, 1))\n",
    "        self.softmax = nn.Softmax()\n",
    "\n",
    "    def forward(self, x, w_last):\n",
    "        out = F.relu(self.conv1(x))\n",
    "        out = F.relu(self.conv2(out))\n",
    "        out = torch.cat(out, w_last, axis=-1)\n",
    "        out = F.relu(self.conv3(out))\n",
    "        out = torch.flatten(out)\n",
    "        out = torch.cat(out, self.cash_bias, axis=-1)\n",
    "        return self.softmax(out)"
   ]
  },
  {
   "cell_type": "code",
   "execution_count": null,
   "metadata": {},
   "outputs": [],
   "source": [
    "model = DPM_CNN(W_0, cash_bias)\n",
    "opt = optim.Adagrad(model.parameters())\n",
    "criterion = nn.BCELoss()\n",
    "print(model)"
   ]
  },
  {
   "cell_type": "code",
   "execution_count": null,
   "metadata": {},
   "outputs": [],
   "source": [
    "epochs=5\n",
    "for epoch in range(epochs):\n",
    "    running_loss = 0.0\n",
    "    for i, data in enumerate(train_loader):\n",
    "        w_last = model(data, W_0)\n",
    "        loss = criterion(w_last, labels)\n",
    "        loss.backward()\n",
    "        optimizer.step()\n",
    "        running_loss += loss.item()\n",
    "        print(loss)\n"
   ]
  }
 ],
 "metadata": {
  "kernelspec": {
   "display_name": "safex_trading_bot",
   "language": "python",
   "name": "safex_trading_bot"
  },
  "language_info": {
   "codemirror_mode": {
    "name": "ipython",
    "version": 3
   },
   "file_extension": ".py",
   "mimetype": "text/x-python",
   "name": "python",
   "nbconvert_exporter": "python",
   "pygments_lexer": "ipython3",
   "version": "3.6.9"
  }
 },
 "nbformat": 4,
 "nbformat_minor": 4
}
