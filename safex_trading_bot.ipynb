{
 "cells": [
  {
   "cell_type": "markdown",
   "metadata": {},
   "source": [
    "## Setup"
   ]
  },
  {
   "cell_type": "code",
   "execution_count": 8,
   "metadata": {},
   "outputs": [],
   "source": [
    "import requests\n",
    "import pandas as pd\n",
    "from tqdm.notebook import tqdm\n",
    "import matplotlib.pyplot as plt\n",
    "import numpy as np\n",
    "import torch\n",
    "import torch.nn as nn\n",
    "import torch.nn.functional as F\n",
    "import torch.optim as optim\n",
    "from torch.utils.data import DataLoader\n",
    "from sklearn.preprocessing import MinMaxScaler\n",
    "from torch.utils.tensorboard import SummaryWriter\n",
    "torch.manual_seed(1)\n",
    "pd.set_option(\"display.precision\", 8)"
   ]
  },
  {
   "cell_type": "code",
   "execution_count": 211,
   "metadata": {},
   "outputs": [
    {
     "data": {
      "application/vnd.jupyter.widget-view+json": {
       "model_id": "a36f2a322ee54f85b931a4d7cb132688",
       "version_major": 2,
       "version_minor": 0
      },
      "text/plain": [
       "HBox(children=(FloatProgress(value=1.0, bar_style='info', max=1.0), HTML(value='')))"
      ]
     },
     "metadata": {},
     "output_type": "display_data"
    }
   ],
   "source": [
    "base = \"https://app.xcalibra.com/api/public/v1/price-history/SFX_BTC\"\n",
    "payload = {'interval':'hour','limit':1000}\n",
    "\n",
    "r = requests.get(base,params=payload).json()\n",
    "data = []\n",
    "pbar = tqdm()\n",
    "while(r[0]['open'] != 0):\n",
    "    to_timestamp = r[0]['timestamp']\n",
    "    payload = {'interval':'hour', 'to_timestamp': to_timestamp, 'limit':1000}\n",
    "    r = requests.get(base, params=payload).json()\n",
    "    data.append(r)\n",
    "    pbar.update()\n",
    "\n",
    "# Flatten list for easu dataframe import\n",
    "cleaned_data = [item for sublist in data for item in sublist]\n",
    "df = pd.DataFrame(cleaned_data)\n",
    "# Fill None values\n",
    "df.fillna(value=0, inplace=True)\n",
    "# Flip DataFrame\n",
    "df.iloc[:] = df.iloc[::-1].values\n",
    "# Change 'volume' and 'quantity' from string to numeric\n",
    "df[['volume','quantity']] = df[['volume','quantity']].apply(pd.to_numeric)\n",
    "# Set the index as the timestamp column \n",
    "df.set_index('timestamp', inplace=True)\n",
    "# Typecast the index to datetime from string\n",
    "df.index = pd.to_datetime(df.index)\n",
    "df.to_csv(\"dataset_hourly.csv\")"
   ]
  },
  {
   "cell_type": "code",
   "execution_count": 3,
   "metadata": {},
   "outputs": [],
   "source": [
    "df =pd.read_csv(\"dataset_hourly.csv\")"
   ]
  },
  {
   "cell_type": "code",
   "execution_count": 5,
   "metadata": {
    "scrolled": true
   },
   "outputs": [],
   "source": [
    "df.set_index('timestamp', inplace=True)"
   ]
  },
  {
   "cell_type": "code",
   "execution_count": 6,
   "metadata": {},
   "outputs": [
    {
     "data": {
      "text/html": [
       "<div>\n",
       "<style scoped>\n",
       "    .dataframe tbody tr th:only-of-type {\n",
       "        vertical-align: middle;\n",
       "    }\n",
       "\n",
       "    .dataframe tbody tr th {\n",
       "        vertical-align: top;\n",
       "    }\n",
       "\n",
       "    .dataframe thead th {\n",
       "        text-align: right;\n",
       "    }\n",
       "</style>\n",
       "<table border=\"1\" class=\"dataframe\">\n",
       "  <thead>\n",
       "    <tr style=\"text-align: right;\">\n",
       "      <th></th>\n",
       "      <th>open</th>\n",
       "      <th>high</th>\n",
       "      <th>low</th>\n",
       "      <th>close</th>\n",
       "      <th>count</th>\n",
       "      <th>volume</th>\n",
       "      <th>quantity</th>\n",
       "    </tr>\n",
       "    <tr>\n",
       "      <th>timestamp</th>\n",
       "      <th></th>\n",
       "      <th></th>\n",
       "      <th></th>\n",
       "      <th></th>\n",
       "      <th></th>\n",
       "      <th></th>\n",
       "      <th></th>\n",
       "    </tr>\n",
       "  </thead>\n",
       "  <tbody>\n",
       "    <tr>\n",
       "      <th>2019-06-17 19:00:00+00:00</th>\n",
       "      <td>0.00000697</td>\n",
       "      <td>0.00000697</td>\n",
       "      <td>0.00000697</td>\n",
       "      <td>0.00000697</td>\n",
       "      <td>0</td>\n",
       "      <td>0.00000000</td>\n",
       "      <td>0.00000000</td>\n",
       "    </tr>\n",
       "    <tr>\n",
       "      <th>2019-06-17 18:00:00+00:00</th>\n",
       "      <td>0.00000697</td>\n",
       "      <td>0.00000697</td>\n",
       "      <td>0.00000697</td>\n",
       "      <td>0.00000697</td>\n",
       "      <td>0</td>\n",
       "      <td>0.00000000</td>\n",
       "      <td>0.00000000</td>\n",
       "    </tr>\n",
       "    <tr>\n",
       "      <th>2019-06-17 17:00:00+00:00</th>\n",
       "      <td>0.00000697</td>\n",
       "      <td>0.00000697</td>\n",
       "      <td>0.00000697</td>\n",
       "      <td>0.00000697</td>\n",
       "      <td>0</td>\n",
       "      <td>0.00000000</td>\n",
       "      <td>0.00000000</td>\n",
       "    </tr>\n",
       "    <tr>\n",
       "      <th>2019-06-17 16:00:00+00:00</th>\n",
       "      <td>0.00000697</td>\n",
       "      <td>0.00000697</td>\n",
       "      <td>0.00000697</td>\n",
       "      <td>0.00000697</td>\n",
       "      <td>0</td>\n",
       "      <td>0.00000000</td>\n",
       "      <td>0.00000000</td>\n",
       "    </tr>\n",
       "    <tr>\n",
       "      <th>2019-06-17 15:00:00+00:00</th>\n",
       "      <td>0.00000697</td>\n",
       "      <td>0.00000697</td>\n",
       "      <td>0.00000697</td>\n",
       "      <td>0.00000697</td>\n",
       "      <td>0</td>\n",
       "      <td>0.00000000</td>\n",
       "      <td>0.00000000</td>\n",
       "    </tr>\n",
       "    <tr>\n",
       "      <th>...</th>\n",
       "      <td>...</td>\n",
       "      <td>...</td>\n",
       "      <td>...</td>\n",
       "      <td>...</td>\n",
       "      <td>...</td>\n",
       "      <td>...</td>\n",
       "      <td>...</td>\n",
       "    </tr>\n",
       "    <tr>\n",
       "      <th>2020-02-22 17:00:00+00:00</th>\n",
       "      <td>0.00000065</td>\n",
       "      <td>0.00000065</td>\n",
       "      <td>0.00000065</td>\n",
       "      <td>0.00000065</td>\n",
       "      <td>0</td>\n",
       "      <td>0.00000000</td>\n",
       "      <td>0.00000000</td>\n",
       "    </tr>\n",
       "    <tr>\n",
       "      <th>2020-02-22 16:00:00+00:00</th>\n",
       "      <td>0.00000065</td>\n",
       "      <td>0.00000065</td>\n",
       "      <td>0.00000065</td>\n",
       "      <td>0.00000065</td>\n",
       "      <td>2</td>\n",
       "      <td>0.00752605</td>\n",
       "      <td>11578.54210627</td>\n",
       "    </tr>\n",
       "    <tr>\n",
       "      <th>2020-02-22 15:00:00+00:00</th>\n",
       "      <td>0.00000065</td>\n",
       "      <td>0.00000065</td>\n",
       "      <td>0.00000065</td>\n",
       "      <td>0.00000065</td>\n",
       "      <td>1</td>\n",
       "      <td>0.00032500</td>\n",
       "      <td>500.00000000</td>\n",
       "    </tr>\n",
       "    <tr>\n",
       "      <th>2020-02-22 14:00:00+00:00</th>\n",
       "      <td>0.00000065</td>\n",
       "      <td>0.00000065</td>\n",
       "      <td>0.00000065</td>\n",
       "      <td>0.00000065</td>\n",
       "      <td>1</td>\n",
       "      <td>0.00152485</td>\n",
       "      <td>2345.91837907</td>\n",
       "    </tr>\n",
       "    <tr>\n",
       "      <th>2020-02-22 13:00:00+00:00</th>\n",
       "      <td>0.00000065</td>\n",
       "      <td>0.00000065</td>\n",
       "      <td>0.00000065</td>\n",
       "      <td>0.00000065</td>\n",
       "      <td>0</td>\n",
       "      <td>0.00000000</td>\n",
       "      <td>0.00000000</td>\n",
       "    </tr>\n",
       "  </tbody>\n",
       "</table>\n",
       "<p>7492 rows × 7 columns</p>\n",
       "</div>"
      ],
      "text/plain": [
       "                                 open        high         low       close  \\\n",
       "timestamp                                                                   \n",
       "2019-06-17 19:00:00+00:00  0.00000697  0.00000697  0.00000697  0.00000697   \n",
       "2019-06-17 18:00:00+00:00  0.00000697  0.00000697  0.00000697  0.00000697   \n",
       "2019-06-17 17:00:00+00:00  0.00000697  0.00000697  0.00000697  0.00000697   \n",
       "2019-06-17 16:00:00+00:00  0.00000697  0.00000697  0.00000697  0.00000697   \n",
       "2019-06-17 15:00:00+00:00  0.00000697  0.00000697  0.00000697  0.00000697   \n",
       "...                               ...         ...         ...         ...   \n",
       "2020-02-22 17:00:00+00:00  0.00000065  0.00000065  0.00000065  0.00000065   \n",
       "2020-02-22 16:00:00+00:00  0.00000065  0.00000065  0.00000065  0.00000065   \n",
       "2020-02-22 15:00:00+00:00  0.00000065  0.00000065  0.00000065  0.00000065   \n",
       "2020-02-22 14:00:00+00:00  0.00000065  0.00000065  0.00000065  0.00000065   \n",
       "2020-02-22 13:00:00+00:00  0.00000065  0.00000065  0.00000065  0.00000065   \n",
       "\n",
       "                           count      volume        quantity  \n",
       "timestamp                                                     \n",
       "2019-06-17 19:00:00+00:00      0  0.00000000      0.00000000  \n",
       "2019-06-17 18:00:00+00:00      0  0.00000000      0.00000000  \n",
       "2019-06-17 17:00:00+00:00      0  0.00000000      0.00000000  \n",
       "2019-06-17 16:00:00+00:00      0  0.00000000      0.00000000  \n",
       "2019-06-17 15:00:00+00:00      0  0.00000000      0.00000000  \n",
       "...                          ...         ...             ...  \n",
       "2020-02-22 17:00:00+00:00      0  0.00000000      0.00000000  \n",
       "2020-02-22 16:00:00+00:00      2  0.00752605  11578.54210627  \n",
       "2020-02-22 15:00:00+00:00      1  0.00032500    500.00000000  \n",
       "2020-02-22 14:00:00+00:00      1  0.00152485   2345.91837907  \n",
       "2020-02-22 13:00:00+00:00      0  0.00000000      0.00000000  \n",
       "\n",
       "[7492 rows x 7 columns]"
      ]
     },
     "execution_count": 6,
     "metadata": {},
     "output_type": "execute_result"
    }
   ],
   "source": [
    "df"
   ]
  },
  {
   "cell_type": "code",
   "execution_count": 213,
   "metadata": {
    "scrolled": true
   },
   "outputs": [
    {
     "data": {
      "text/html": [
       "<div>\n",
       "<style scoped>\n",
       "    .dataframe tbody tr th:only-of-type {\n",
       "        vertical-align: middle;\n",
       "    }\n",
       "\n",
       "    .dataframe tbody tr th {\n",
       "        vertical-align: top;\n",
       "    }\n",
       "\n",
       "    .dataframe thead th {\n",
       "        text-align: right;\n",
       "    }\n",
       "</style>\n",
       "<table border=\"1\" class=\"dataframe\">\n",
       "  <thead>\n",
       "    <tr style=\"text-align: right;\">\n",
       "      <th></th>\n",
       "      <th>open</th>\n",
       "      <th>high</th>\n",
       "      <th>low</th>\n",
       "      <th>close</th>\n",
       "      <th>count</th>\n",
       "      <th>volume</th>\n",
       "      <th>quantity</th>\n",
       "    </tr>\n",
       "  </thead>\n",
       "  <tbody>\n",
       "    <tr>\n",
       "      <th>count</th>\n",
       "      <td>7492.00000000</td>\n",
       "      <td>7492.00000000</td>\n",
       "      <td>7492.00000000</td>\n",
       "      <td>7492.00000000</td>\n",
       "      <td>7492.00000000</td>\n",
       "      <td>7492.00000000</td>\n",
       "      <td>7492.00000000</td>\n",
       "    </tr>\n",
       "    <tr>\n",
       "      <th>mean</th>\n",
       "      <td>0.00000317</td>\n",
       "      <td>0.00000324</td>\n",
       "      <td>0.00000314</td>\n",
       "      <td>0.00000317</td>\n",
       "      <td>3.05032034</td>\n",
       "      <td>0.00435524</td>\n",
       "      <td>1869.82592507</td>\n",
       "    </tr>\n",
       "    <tr>\n",
       "      <th>std</th>\n",
       "      <td>0.00001551</td>\n",
       "      <td>0.00001577</td>\n",
       "      <td>0.00001549</td>\n",
       "      <td>0.00001551</td>\n",
       "      <td>10.72815529</td>\n",
       "      <td>0.02047787</td>\n",
       "      <td>10152.39684831</td>\n",
       "    </tr>\n",
       "    <tr>\n",
       "      <th>min</th>\n",
       "      <td>0.00000000</td>\n",
       "      <td>0.00000000</td>\n",
       "      <td>0.00000000</td>\n",
       "      <td>0.00000000</td>\n",
       "      <td>0.00000000</td>\n",
       "      <td>0.00000000</td>\n",
       "      <td>0.00000000</td>\n",
       "    </tr>\n",
       "    <tr>\n",
       "      <th>25%</th>\n",
       "      <td>0.00000089</td>\n",
       "      <td>0.00000090</td>\n",
       "      <td>0.00000088</td>\n",
       "      <td>0.00000089</td>\n",
       "      <td>0.00000000</td>\n",
       "      <td>0.00000000</td>\n",
       "      <td>0.00000000</td>\n",
       "    </tr>\n",
       "    <tr>\n",
       "      <th>50%</th>\n",
       "      <td>0.00000129</td>\n",
       "      <td>0.00000130</td>\n",
       "      <td>0.00000128</td>\n",
       "      <td>0.00000129</td>\n",
       "      <td>0.00000000</td>\n",
       "      <td>0.00000000</td>\n",
       "      <td>0.00000000</td>\n",
       "    </tr>\n",
       "    <tr>\n",
       "      <th>75%</th>\n",
       "      <td>0.00000273</td>\n",
       "      <td>0.00000282</td>\n",
       "      <td>0.00000271</td>\n",
       "      <td>0.00000273</td>\n",
       "      <td>2.00000000</td>\n",
       "      <td>0.00158323</td>\n",
       "      <td>0.00000000</td>\n",
       "    </tr>\n",
       "    <tr>\n",
       "      <th>max</th>\n",
       "      <td>0.00025000</td>\n",
       "      <td>0.00025000</td>\n",
       "      <td>0.00025000</td>\n",
       "      <td>0.00025000</td>\n",
       "      <td>96.00000000</td>\n",
       "      <td>0.83779993</td>\n",
       "      <td>310386.29789259</td>\n",
       "    </tr>\n",
       "  </tbody>\n",
       "</table>\n",
       "</div>"
      ],
      "text/plain": [
       "                open           high            low          close  \\\n",
       "count  7492.00000000  7492.00000000  7492.00000000  7492.00000000   \n",
       "mean      0.00000317     0.00000324     0.00000314     0.00000317   \n",
       "std       0.00001551     0.00001577     0.00001549     0.00001551   \n",
       "min       0.00000000     0.00000000     0.00000000     0.00000000   \n",
       "25%       0.00000089     0.00000090     0.00000088     0.00000089   \n",
       "50%       0.00000129     0.00000130     0.00000128     0.00000129   \n",
       "75%       0.00000273     0.00000282     0.00000271     0.00000273   \n",
       "max       0.00025000     0.00025000     0.00025000     0.00025000   \n",
       "\n",
       "               count         volume         quantity  \n",
       "count  7492.00000000  7492.00000000    7492.00000000  \n",
       "mean      3.05032034     0.00435524    1869.82592507  \n",
       "std      10.72815529     0.02047787   10152.39684831  \n",
       "min       0.00000000     0.00000000       0.00000000  \n",
       "25%       0.00000000     0.00000000       0.00000000  \n",
       "50%       0.00000000     0.00000000       0.00000000  \n",
       "75%       2.00000000     0.00158323       0.00000000  \n",
       "max      96.00000000     0.83779993  310386.29789259  "
      ]
     },
     "execution_count": 213,
     "metadata": {},
     "output_type": "execute_result"
    }
   ],
   "source": [
    "df.describe()"
   ]
  },
  {
   "cell_type": "code",
   "execution_count": 259,
   "metadata": {},
   "outputs": [
    {
     "data": {
      "text/plain": [
       "<matplotlib.axes._subplots.AxesSubplot at 0x7f0a3d6850f0>"
      ]
     },
     "execution_count": 259,
     "metadata": {},
     "output_type": "execute_result"
    },
    {
     "data": {
      "image/png": "[encoded data removed]",
      "text/plain": [
       "<Figure size 432x288 with 1 Axes>"
      ]
     },
     "metadata": {
      "needs_background": "light"
     },
     "output_type": "display_data"
    }
   ],
   "source": [
    "df[500:].plot(y='close', logy=True)"
   ]
  },
  {
   "cell_type": "markdown",
   "metadata": {},
   "source": [
    "-------\n",
    "## Training"
   ]
  },
  {
   "cell_type": "code",
   "execution_count": 82,
   "metadata": {},
   "outputs": [],
   "source": [
    "hist = df"
   ]
  },
  {
   "cell_type": "code",
   "execution_count": 108,
   "metadata": {},
   "outputs": [],
   "source": [
    "clip_size = 3000"
   ]
  },
  {
   "cell_type": "code",
   "execution_count": 83,
   "metadata": {},
   "outputs": [],
   "source": [
    "hist = hist[clip_size:]"
   ]
  },
  {
   "cell_type": "code",
   "execution_count": 84,
   "metadata": {},
   "outputs": [
    {
     "data": {
      "text/plain": [
       "<matplotlib.axes._subplots.AxesSubplot at 0x7f1d2e497d68>"
      ]
     },
     "execution_count": 84,
     "metadata": {},
     "output_type": "execute_result"
    },
    {
     "data": {
      "image/png": "[encoded data removed]",
      "text/plain": [
       "<Figure size 432x288 with 1 Axes>"
      ]
     },
     "metadata": {
      "needs_background": "light"
     },
     "output_type": "display_data"
    }
   ],
   "source": [
    "hist['close'].plot()"
   ]
  },
  {
   "cell_type": "code",
   "execution_count": 85,
   "metadata": {},
   "outputs": [],
   "source": [
    "all_data = hist['close'].values.astype(float)"
   ]
  },
  {
   "cell_type": "code",
   "execution_count": 86,
   "metadata": {},
   "outputs": [],
   "source": [
    "test_data_size = 100\n",
    "train_data = all_data[:-test_data_size]\n",
    "test_data = all_data[-test_data_size:]"
   ]
  },
  {
   "cell_type": "code",
   "execution_count": 87,
   "metadata": {},
   "outputs": [],
   "source": [
    "from sklearn.preprocessing import MinMaxScaler\n",
    "\n",
    "scaler = MinMaxScaler(feature_range=(-1, 1))\n",
    "train_data_normalized = scaler.fit_transform(train_data .reshape(-1, 1))"
   ]
  },
  {
   "cell_type": "code",
   "execution_count": 88,
   "metadata": {},
   "outputs": [],
   "source": [
    "train_data_normalized = torch.FloatTensor(train_data_normalized).view(-1)"
   ]
  },
  {
   "cell_type": "code",
   "execution_count": 89,
   "metadata": {},
   "outputs": [],
   "source": [
    "train_window = 3\n",
    "def create_inout_sequences(input_data, tw):\n",
    "    inout_seq = []\n",
    "    L = len(input_data)\n",
    "    for i in range(L-tw):\n",
    "        train_seq = input_data[i:i+tw]\n",
    "        train_label = input_data[i+tw:i+tw+1]\n",
    "        inout_seq.append((train_seq ,train_label))\n",
    "    return inout_seq"
   ]
  },
  {
   "cell_type": "code",
   "execution_count": 90,
   "metadata": {},
   "outputs": [],
   "source": [
    "train_inout_seq = create_inout_sequences(train_data_normalized, train_window)"
   ]
  },
  {
   "cell_type": "code",
   "execution_count": 91,
   "metadata": {},
   "outputs": [],
   "source": [
    "if torch.cuda.is_available():\n",
    "        ngpu = 1\n",
    "\n",
    "device = torch.device(\"cuda:0\" if (torch.cuda.is_available() and ngpu > 0) else \"cpu\")"
   ]
  },
  {
   "cell_type": "code",
   "execution_count": 92,
   "metadata": {
    "scrolled": true
   },
   "outputs": [
    {
     "name": "stdout",
     "output_type": "stream",
     "text": [
      "LSTM(\n",
      "  (lstm): LSTM(1, 100)\n",
      "  (linear): Linear(in_features=100, out_features=1, bias=True)\n",
      ")\n"
     ]
    }
   ],
   "source": [
    "class LSTM(nn.Module):\n",
    "    def __init__(self, input_size=1, hidden_layer_size=100, output_size=1):\n",
    "        super().__init__()\n",
    "        self.ngpu = ngpu\n",
    "        self.hidden_layer_size = hidden_layer_size\n",
    "\n",
    "        self.lstm = nn.LSTM(input_size, hidden_layer_size)\n",
    "\n",
    "        self.linear = nn.Linear(hidden_layer_size, output_size)\n",
    "\n",
    "        self.hidden_cell = (torch.zeros(1,1,self.hidden_layer_size),\n",
    "                            torch.zeros(1,1,self.hidden_layer_size))\n",
    "\n",
    "    def forward(self, input_seq):\n",
    "        lstm_out, self.hidden_cell = self.lstm(input_seq.view(len(input_seq) ,1, -1), self.hidden_cell)\n",
    "        predictions = self.linear(lstm_out.view(len(input_seq), -1))\n",
    "        return predictions[-1]\n",
    "    \n",
    "model = LSTM(ngpu).to(device)\n",
    "loss_function = nn.MSELoss()\n",
    "optimizer = torch.optim.Adam(model.parameters(), lr=0.001)\n",
    "print(model)"
   ]
  },
  {
   "cell_type": "code",
   "execution_count": 93,
   "metadata": {},
   "outputs": [
    {
     "data": {
      "application/vnd.jupyter.widget-view+json": {
       "model_id": "60e7c963a9ab4293bcb547b061378f25",
       "version_major": 2,
       "version_minor": 0
      },
      "text/plain": [
       "HBox(children=(FloatProgress(value=0.0, max=10.0), HTML(value='')))"
      ]
     },
     "metadata": {},
     "output_type": "display_data"
    },
    {
     "data": {
      "application/vnd.jupyter.widget-view+json": {
       "model_id": "cceaf34866d640f0a8be3bbba4fdd073",
       "version_major": 2,
       "version_minor": 0
      },
      "text/plain": [
       "HBox(children=(FloatProgress(value=0.0, max=4389.0), HTML(value='')))"
      ]
     },
     "metadata": {},
     "output_type": "display_data"
    },
    {
     "name": "stdout",
     "output_type": "stream",
     "text": [
      "\n"
     ]
    },
    {
     "data": {
      "application/vnd.jupyter.widget-view+json": {
       "model_id": "233b5e8fa1014d4b96351e84b7f8456d",
       "version_major": 2,
       "version_minor": 0
      },
      "text/plain": [
       "HBox(children=(FloatProgress(value=0.0, max=4389.0), HTML(value='')))"
      ]
     },
     "metadata": {},
     "output_type": "display_data"
    },
    {
     "name": "stdout",
     "output_type": "stream",
     "text": [
      "\n"
     ]
    },
    {
     "data": {
      "application/vnd.jupyter.widget-view+json": {
       "model_id": "df95675f4fef46f8a1b614cbd8a3f1f8",
       "version_major": 2,
       "version_minor": 0
      },
      "text/plain": [
       "HBox(children=(FloatProgress(value=0.0, max=4389.0), HTML(value='')))"
      ]
     },
     "metadata": {},
     "output_type": "display_data"
    },
    {
     "name": "stdout",
     "output_type": "stream",
     "text": [
      "\n"
     ]
    },
    {
     "data": {
      "application/vnd.jupyter.widget-view+json": {
       "model_id": "d9572907392a4ecab195383d3e691873",
       "version_major": 2,
       "version_minor": 0
      },
      "text/plain": [
       "HBox(children=(FloatProgress(value=0.0, max=4389.0), HTML(value='')))"
      ]
     },
     "metadata": {},
     "output_type": "display_data"
    },
    {
     "name": "stdout",
     "output_type": "stream",
     "text": [
      "\n"
     ]
    },
    {
     "data": {
      "application/vnd.jupyter.widget-view+json": {
       "model_id": "164692098915466ebe47cd607ab6607c",
       "version_major": 2,
       "version_minor": 0
      },
      "text/plain": [
       "HBox(children=(FloatProgress(value=0.0, max=4389.0), HTML(value='')))"
      ]
     },
     "metadata": {},
     "output_type": "display_data"
    },
    {
     "name": "stdout",
     "output_type": "stream",
     "text": [
      "\n"
     ]
    },
    {
     "data": {
      "application/vnd.jupyter.widget-view+json": {
       "model_id": "9bdb30dd2ff043a3921cc798671a5d92",
       "version_major": 2,
       "version_minor": 0
      },
      "text/plain": [
       "HBox(children=(FloatProgress(value=0.0, max=4389.0), HTML(value='')))"
      ]
     },
     "metadata": {},
     "output_type": "display_data"
    },
    {
     "name": "stdout",
     "output_type": "stream",
     "text": [
      "\n"
     ]
    },
    {
     "data": {
      "application/vnd.jupyter.widget-view+json": {
       "model_id": "c9cdebef0d4841cf9708ce8651ffbe44",
       "version_major": 2,
       "version_minor": 0
      },
      "text/plain": [
       "HBox(children=(FloatProgress(value=0.0, max=4389.0), HTML(value='')))"
      ]
     },
     "metadata": {},
     "output_type": "display_data"
    },
    {
     "name": "stdout",
     "output_type": "stream",
     "text": [
      "\n"
     ]
    },
    {
     "data": {
      "application/vnd.jupyter.widget-view+json": {
       "model_id": "f12761f616de4ab5a1e2256b921b382e",
       "version_major": 2,
       "version_minor": 0
      },
      "text/plain": [
       "HBox(children=(FloatProgress(value=0.0, max=4389.0), HTML(value='')))"
      ]
     },
     "metadata": {},
     "output_type": "display_data"
    },
    {
     "name": "stdout",
     "output_type": "stream",
     "text": [
      "\n"
     ]
    },
    {
     "data": {
      "application/vnd.jupyter.widget-view+json": {
       "model_id": "cbd3c23132dc4fe293d28d3003e00273",
       "version_major": 2,
       "version_minor": 0
      },
      "text/plain": [
       "HBox(children=(FloatProgress(value=0.0, max=4389.0), HTML(value='')))"
      ]
     },
     "metadata": {},
     "output_type": "display_data"
    },
    {
     "name": "stdout",
     "output_type": "stream",
     "text": [
      "\n"
     ]
    },
    {
     "data": {
      "application/vnd.jupyter.widget-view+json": {
       "model_id": "f7d7b85b52f040a6ae0d4a1cbd45677d",
       "version_major": 2,
       "version_minor": 0
      },
      "text/plain": [
       "HBox(children=(FloatProgress(value=0.0, max=4389.0), HTML(value='')))"
      ]
     },
     "metadata": {},
     "output_type": "display_data"
    },
    {
     "name": "stdout",
     "output_type": "stream",
     "text": [
      "\n",
      "\n"
     ]
    }
   ],
   "source": [
    "epochs = 10\n",
    "writer = SummaryWriter()\n",
    "iters = 0\n",
    "for i in tqdm(range(epochs)):\n",
    "    for seq, labels in tqdm(train_inout_seq):\n",
    "        seq = seq.to(device) \n",
    "        labels = labels.to(device)\n",
    "        optimizer.zero_grad()\n",
    "        model.hidden_cell = (torch.zeros(1, 1, model.hidden_layer_size).to(device),\n",
    "                        torch.zeros(1, 1, model.hidden_layer_size).to(device))\n",
    "\n",
    "        y_pred = model(seq)\n",
    "\n",
    "        single_loss = loss_function(y_pred, labels)\n",
    "        single_loss.backward()\n",
    "        optimizer.step()\n",
    "        iters+=1\n",
    "        writer.add_scalar(\"Loss\", single_loss.item(), iters)\n",
    "        \n"
   ]
  },
  {
   "cell_type": "code",
   "execution_count": 102,
   "metadata": {},
   "outputs": [
    {
     "name": "stdout",
     "output_type": "stream",
     "text": [
      "[-0.817307710647583, -0.817307710647583, -0.817307710647583]\n"
     ]
    }
   ],
   "source": [
    "fut_pred = 6\n",
    "\n",
    "test_inputs = train_data_normalized[-train_window:].tolist()\n",
    "print(test_inputs)"
   ]
  },
  {
   "cell_type": "code",
   "execution_count": 103,
   "metadata": {},
   "outputs": [
    {
     "data": {
      "text/plain": [
       "[-1.0019478797912598, -1.0081028938293457, -1.0115854740142822]"
      ]
     },
     "execution_count": 103,
     "metadata": {},
     "output_type": "execute_result"
    }
   ],
   "source": [
    "model.eval()\n",
    "\n",
    "for i in range(fut_pred):\n",
    "    seq = torch.FloatTensor(test_inputs[-train_window:]).to(device)\n",
    "    with torch.no_grad():\n",
    "        model.hidden = (torch.zeros(1, 1, model.hidden_layer_size).to(device),\n",
    "                        torch.zeros(1, 1, model.hidden_layer_size).to(device))\n",
    "        test_inputs.append(model(seq).item())\n",
    "test_inputs[fut_pred:]"
   ]
  },
  {
   "cell_type": "code",
   "execution_count": 104,
   "metadata": {},
   "outputs": [
    {
     "name": "stdout",
     "output_type": "stream",
     "text": [
      "[[6.02167015e-07]\n",
      " [5.38745003e-07]\n",
      " [5.10323310e-07]\n",
      " [4.97974205e-07]\n",
      " [4.91572990e-07]\n",
      " [4.87951107e-07]]\n"
     ]
    }
   ],
   "source": [
    "actual_predictions = scaler.inverse_transform(np.array(test_inputs[train_window:] ).reshape(-1, 1))\n",
    "print(actual_predictions)"
   ]
  },
  {
   "cell_type": "code",
   "execution_count": 105,
   "metadata": {},
   "outputs": [
    {
     "data": {
      "text/plain": [
       "[<matplotlib.lines.Line2D at 0x7f1d28ee76a0>]"
      ]
     },
     "execution_count": 105,
     "metadata": {},
     "output_type": "execute_result"
    },
    {
     "data": {
      "image/png": "[encoded data removed]",
      "text/plain": [
       "<Figure size 432x288 with 1 Axes>"
      ]
     },
     "metadata": {
      "needs_background": "light"
     },
     "output_type": "display_data"
    }
   ],
   "source": [
    "plt.plot(actual_predictions)"
   ]
  },
  {
   "cell_type": "code",
   "execution_count": 127,
   "metadata": {},
   "outputs": [],
   "source": [
    "from matplotlib.dates import AutoDateFormatter, AutoDateLocator\n",
    "\n",
    "xtick_locator = AutoDateLocator()\n",
    "xtick_formatter = AutoDateFormatter(xtick_locator)"
   ]
  },
  {
   "cell_type": "code",
   "execution_count": 129,
   "metadata": {},
   "outputs": [],
   "source": [
    "hist.index = pd.to_datetime(hist.index)"
   ]
  },
  {
   "cell_type": "code",
   "execution_count": 133,
   "metadata": {},
   "outputs": [
    {
     "name": "stderr",
     "output_type": "stream",
     "text": [
      "/home/collin/.virtualenvs/safex_trading_bot/lib/python3.6/site-packages/ipykernel_launcher.py:5: MatplotlibDeprecationWarning: Adding an axes using the same arguments as a previous axes currently reuses the earlier instance.  In a future version, a new instance will always be created and returned.  Meanwhile, this warning can be suppressed, and the future behavior ensured, by passing a unique label to each axes instance.\n",
      "  \"\"\"\n"
     ]
    },
    {
     "data": {
      "image/png": "[encoded data removed]",
      "text/plain": [
       "<Figure size 432x288 with 1 Axes>"
      ]
     },
     "metadata": {
      "needs_background": "light"
     },
     "output_type": "display_data"
    }
   ],
   "source": [
    "plt.title('BTC Close')\n",
    "plt.ylabel('Price')\n",
    "plt.plot(hist['close'][len(hist)-1000:len(hist)])\n",
    "plt.plot(hist.index[len(hist)-6:len(hist)],actual_predictions)\n",
    "ax = plt.axes()\n",
    "ax.xaxis.set_major_locator(xtick_locator)\n",
    "ax.xaxis.set_major_formatter(xtick_formatter)\n",
    "plt.xticks(rotation=45)\n",
    "plt.show()"
   ]
  },
  {
   "cell_type": "code",
   "execution_count": null,
   "metadata": {},
   "outputs": [],
   "source": []
  }
 ],
 "metadata": {
  "kernelspec": {
   "display_name": "safex_trading_bot",
   "language": "python",
   "name": "safex_trading_bot"
  },
  "language_info": {
   "codemirror_mode": {
    "name": "ipython",
    "version": 3
   },
   "file_extension": ".py",
   "mimetype": "text/x-python",
   "name": "python",
   "nbconvert_exporter": "python",
   "pygments_lexer": "ipython3",
   "version": "3.6.9"
  }
 },
 "nbformat": 4,
 "nbformat_minor": 4
}
