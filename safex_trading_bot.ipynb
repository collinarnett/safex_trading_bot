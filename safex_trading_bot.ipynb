{
 "cells": [
  {
   "cell_type": "markdown",
   "metadata": {},
   "source": [
    "## Setup"
   ]
  },
  {
   "cell_type": "code",
   "execution_count": 230,
   "metadata": {},
   "outputs": [],
   "source": [
    "import requests\n",
    "import pandas as pd\n",
    "from tqdm.notebook import tqdm\n",
    "import matplotlib.pyplot as plt\n",
    "import numpy as np\n",
    "import torch\n",
    "import torch.nn as nn\n",
    "import torch.nn.functional as F\n",
    "import torch.optim as optim\n",
    "from pathlib import Path\n",
    "from torch.utils.data import DataLoader\n",
    "from sklearn.preprocessing import MinMaxScaler\n",
    "from torch.utils.tensorboard import SummaryWriter\n",
    "from sklearn.metrics import mean_squared_error\n",
    "import math\n",
    "torch.manual_seed(1)\n",
    "pd.set_option(\"display.precision\", 8)"
   ]
  },
  {
   "cell_type": "code",
   "execution_count": 4,
   "metadata": {},
   "outputs": [],
   "source": [
    "def get_data(interval):\n",
    "    base = \"https://app.xcalibra.com/api/public/v1/price-history/SFX_BTC\"\n",
    "    payload = {'interval': interval,'limit':1000}\n",
    "\n",
    "    r = requests.get(base,params=payload).json()\n",
    "    data = []\n",
    "    pbar = tqdm()\n",
    "    while(r[0]['open'] != 0):\n",
    "        to_timestamp = r[0]['timestamp']\n",
    "        payload = {'interval': interval, 'to_timestamp': to_timestamp, 'limit':1000}\n",
    "        r = requests.get(base, params=payload).json()\n",
    "        data.append(r)\n",
    "        pbar.update()\n",
    "\n",
    "    # Flatten list for easy dataframe import\n",
    "    cleaned_data = [item for sublist in data for item in sublist]\n",
    "    df = pd.DataFrame(cleaned_data)\n",
    "    # Fill None values\n",
    "    df.fillna(value=0, inplace=True)\n",
    "    # Flip DataFrame\n",
    "    df.iloc[:] = df.iloc[::-1].values\n",
    "    # Change 'volume' and 'quantity' from string to numeric\n",
    "    df[['volume','quantity']] = df[['volume','quantity']].apply(pd.to_numeric)\n",
    "    # Set the index as the timestamp column \n",
    "    df.set_index('timestamp', inplace=True)\n",
    "    # Typecast the index to datetime from string\n",
    "    df.index = pd.to_datetime(df.index)\n",
    "    # Save\n",
    "    df.to_csv(f'dataset_{interval}.csv')"
   ]
  },
  {
   "cell_type": "code",
   "execution_count": 13,
   "metadata": {},
   "outputs": [
    {
     "data": {
      "text/html": [
       "<div>\n",
       "<style scoped>\n",
       "    .dataframe tbody tr th:only-of-type {\n",
       "        vertical-align: middle;\n",
       "    }\n",
       "\n",
       "    .dataframe tbody tr th {\n",
       "        vertical-align: top;\n",
       "    }\n",
       "\n",
       "    .dataframe thead th {\n",
       "        text-align: right;\n",
       "    }\n",
       "</style>\n",
       "<table border=\"1\" class=\"dataframe\">\n",
       "  <thead>\n",
       "    <tr style=\"text-align: right;\">\n",
       "      <th></th>\n",
       "      <th>open</th>\n",
       "      <th>high</th>\n",
       "      <th>low</th>\n",
       "      <th>close</th>\n",
       "      <th>count</th>\n",
       "      <th>volume</th>\n",
       "      <th>quantity</th>\n",
       "    </tr>\n",
       "    <tr>\n",
       "      <th>timestamp</th>\n",
       "      <th></th>\n",
       "      <th></th>\n",
       "      <th></th>\n",
       "      <th></th>\n",
       "      <th></th>\n",
       "      <th></th>\n",
       "      <th></th>\n",
       "    </tr>\n",
       "  </thead>\n",
       "  <tbody>\n",
       "    <tr>\n",
       "      <th>2019-06-17 19:00:00+00:00</th>\n",
       "      <td>0.00000697</td>\n",
       "      <td>0.00000697</td>\n",
       "      <td>0.00000697</td>\n",
       "      <td>0.00000697</td>\n",
       "      <td>0</td>\n",
       "      <td>0.00000000</td>\n",
       "      <td>0.00000000</td>\n",
       "    </tr>\n",
       "    <tr>\n",
       "      <th>2019-06-17 18:00:00+00:00</th>\n",
       "      <td>0.00000697</td>\n",
       "      <td>0.00000697</td>\n",
       "      <td>0.00000697</td>\n",
       "      <td>0.00000697</td>\n",
       "      <td>0</td>\n",
       "      <td>0.00000000</td>\n",
       "      <td>0.00000000</td>\n",
       "    </tr>\n",
       "    <tr>\n",
       "      <th>2019-06-17 17:00:00+00:00</th>\n",
       "      <td>0.00000697</td>\n",
       "      <td>0.00000697</td>\n",
       "      <td>0.00000697</td>\n",
       "      <td>0.00000697</td>\n",
       "      <td>0</td>\n",
       "      <td>0.00000000</td>\n",
       "      <td>0.00000000</td>\n",
       "    </tr>\n",
       "    <tr>\n",
       "      <th>2019-06-17 16:00:00+00:00</th>\n",
       "      <td>0.00000697</td>\n",
       "      <td>0.00000697</td>\n",
       "      <td>0.00000697</td>\n",
       "      <td>0.00000697</td>\n",
       "      <td>0</td>\n",
       "      <td>0.00000000</td>\n",
       "      <td>0.00000000</td>\n",
       "    </tr>\n",
       "    <tr>\n",
       "      <th>2019-06-17 15:00:00+00:00</th>\n",
       "      <td>0.00000697</td>\n",
       "      <td>0.00000697</td>\n",
       "      <td>0.00000697</td>\n",
       "      <td>0.00000697</td>\n",
       "      <td>0</td>\n",
       "      <td>0.00000000</td>\n",
       "      <td>0.00000000</td>\n",
       "    </tr>\n",
       "    <tr>\n",
       "      <th>...</th>\n",
       "      <td>...</td>\n",
       "      <td>...</td>\n",
       "      <td>...</td>\n",
       "      <td>...</td>\n",
       "      <td>...</td>\n",
       "      <td>...</td>\n",
       "      <td>...</td>\n",
       "    </tr>\n",
       "    <tr>\n",
       "      <th>2020-02-22 17:00:00+00:00</th>\n",
       "      <td>0.00000065</td>\n",
       "      <td>0.00000065</td>\n",
       "      <td>0.00000065</td>\n",
       "      <td>0.00000065</td>\n",
       "      <td>0</td>\n",
       "      <td>0.00000000</td>\n",
       "      <td>0.00000000</td>\n",
       "    </tr>\n",
       "    <tr>\n",
       "      <th>2020-02-22 16:00:00+00:00</th>\n",
       "      <td>0.00000065</td>\n",
       "      <td>0.00000065</td>\n",
       "      <td>0.00000065</td>\n",
       "      <td>0.00000065</td>\n",
       "      <td>2</td>\n",
       "      <td>0.00752605</td>\n",
       "      <td>11578.54210627</td>\n",
       "    </tr>\n",
       "    <tr>\n",
       "      <th>2020-02-22 15:00:00+00:00</th>\n",
       "      <td>0.00000065</td>\n",
       "      <td>0.00000065</td>\n",
       "      <td>0.00000065</td>\n",
       "      <td>0.00000065</td>\n",
       "      <td>1</td>\n",
       "      <td>0.00032500</td>\n",
       "      <td>500.00000000</td>\n",
       "    </tr>\n",
       "    <tr>\n",
       "      <th>2020-02-22 14:00:00+00:00</th>\n",
       "      <td>0.00000065</td>\n",
       "      <td>0.00000065</td>\n",
       "      <td>0.00000065</td>\n",
       "      <td>0.00000065</td>\n",
       "      <td>1</td>\n",
       "      <td>0.00152485</td>\n",
       "      <td>2345.91837907</td>\n",
       "    </tr>\n",
       "    <tr>\n",
       "      <th>2020-02-22 13:00:00+00:00</th>\n",
       "      <td>0.00000065</td>\n",
       "      <td>0.00000065</td>\n",
       "      <td>0.00000065</td>\n",
       "      <td>0.00000065</td>\n",
       "      <td>0</td>\n",
       "      <td>0.00000000</td>\n",
       "      <td>0.00000000</td>\n",
       "    </tr>\n",
       "  </tbody>\n",
       "</table>\n",
       "<p>7492 rows × 7 columns</p>\n",
       "</div>"
      ],
      "text/plain": [
       "                                 open        high         low       close  \\\n",
       "timestamp                                                                   \n",
       "2019-06-17 19:00:00+00:00  0.00000697  0.00000697  0.00000697  0.00000697   \n",
       "2019-06-17 18:00:00+00:00  0.00000697  0.00000697  0.00000697  0.00000697   \n",
       "2019-06-17 17:00:00+00:00  0.00000697  0.00000697  0.00000697  0.00000697   \n",
       "2019-06-17 16:00:00+00:00  0.00000697  0.00000697  0.00000697  0.00000697   \n",
       "2019-06-17 15:00:00+00:00  0.00000697  0.00000697  0.00000697  0.00000697   \n",
       "...                               ...         ...         ...         ...   \n",
       "2020-02-22 17:00:00+00:00  0.00000065  0.00000065  0.00000065  0.00000065   \n",
       "2020-02-22 16:00:00+00:00  0.00000065  0.00000065  0.00000065  0.00000065   \n",
       "2020-02-22 15:00:00+00:00  0.00000065  0.00000065  0.00000065  0.00000065   \n",
       "2020-02-22 14:00:00+00:00  0.00000065  0.00000065  0.00000065  0.00000065   \n",
       "2020-02-22 13:00:00+00:00  0.00000065  0.00000065  0.00000065  0.00000065   \n",
       "\n",
       "                           count      volume        quantity  \n",
       "timestamp                                                     \n",
       "2019-06-17 19:00:00+00:00      0  0.00000000      0.00000000  \n",
       "2019-06-17 18:00:00+00:00      0  0.00000000      0.00000000  \n",
       "2019-06-17 17:00:00+00:00      0  0.00000000      0.00000000  \n",
       "2019-06-17 16:00:00+00:00      0  0.00000000      0.00000000  \n",
       "2019-06-17 15:00:00+00:00      0  0.00000000      0.00000000  \n",
       "...                          ...         ...             ...  \n",
       "2020-02-22 17:00:00+00:00      0  0.00000000      0.00000000  \n",
       "2020-02-22 16:00:00+00:00      2  0.00752605  11578.54210627  \n",
       "2020-02-22 15:00:00+00:00      1  0.00032500    500.00000000  \n",
       "2020-02-22 14:00:00+00:00      1  0.00152485   2345.91837907  \n",
       "2020-02-22 13:00:00+00:00      0  0.00000000      0.00000000  \n",
       "\n",
       "[7492 rows x 7 columns]"
      ]
     },
     "execution_count": 13,
     "metadata": {},
     "output_type": "execute_result"
    }
   ],
   "source": [
    "interval = 'hour'\n",
    "if Path(f'dataset_{interval}.csv'):\n",
    "    df = pd.read_csv(f'dataset_{interval}.csv')\n",
    "    df.set_index('timestamp', inplace=True)\n",
    "    df.index = pd.to_datetime(df.index)\n",
    "else:\n",
    "    get_data(interval)\n",
    "df"
   ]
  },
  {
   "cell_type": "code",
   "execution_count": 213,
   "metadata": {
    "scrolled": true
   },
   "outputs": [
    {
     "data": {
      "text/html": [
       "<div>\n",
       "<style scoped>\n",
       "    .dataframe tbody tr th:only-of-type {\n",
       "        vertical-align: middle;\n",
       "    }\n",
       "\n",
       "    .dataframe tbody tr th {\n",
       "        vertical-align: top;\n",
       "    }\n",
       "\n",
       "    .dataframe thead th {\n",
       "        text-align: right;\n",
       "    }\n",
       "</style>\n",
       "<table border=\"1\" class=\"dataframe\">\n",
       "  <thead>\n",
       "    <tr style=\"text-align: right;\">\n",
       "      <th></th>\n",
       "      <th>open</th>\n",
       "      <th>high</th>\n",
       "      <th>low</th>\n",
       "      <th>close</th>\n",
       "      <th>count</th>\n",
       "      <th>volume</th>\n",
       "      <th>quantity</th>\n",
       "    </tr>\n",
       "  </thead>\n",
       "  <tbody>\n",
       "    <tr>\n",
       "      <th>count</th>\n",
       "      <td>7492.00000000</td>\n",
       "      <td>7492.00000000</td>\n",
       "      <td>7492.00000000</td>\n",
       "      <td>7492.00000000</td>\n",
       "      <td>7492.00000000</td>\n",
       "      <td>7492.00000000</td>\n",
       "      <td>7492.00000000</td>\n",
       "    </tr>\n",
       "    <tr>\n",
       "      <th>mean</th>\n",
       "      <td>0.00000317</td>\n",
       "      <td>0.00000324</td>\n",
       "      <td>0.00000314</td>\n",
       "      <td>0.00000317</td>\n",
       "      <td>3.05032034</td>\n",
       "      <td>0.00435524</td>\n",
       "      <td>1869.82592507</td>\n",
       "    </tr>\n",
       "    <tr>\n",
       "      <th>std</th>\n",
       "      <td>0.00001551</td>\n",
       "      <td>0.00001577</td>\n",
       "      <td>0.00001549</td>\n",
       "      <td>0.00001551</td>\n",
       "      <td>10.72815529</td>\n",
       "      <td>0.02047787</td>\n",
       "      <td>10152.39684831</td>\n",
       "    </tr>\n",
       "    <tr>\n",
       "      <th>min</th>\n",
       "      <td>0.00000000</td>\n",
       "      <td>0.00000000</td>\n",
       "      <td>0.00000000</td>\n",
       "      <td>0.00000000</td>\n",
       "      <td>0.00000000</td>\n",
       "      <td>0.00000000</td>\n",
       "      <td>0.00000000</td>\n",
       "    </tr>\n",
       "    <tr>\n",
       "      <th>25%</th>\n",
       "      <td>0.00000089</td>\n",
       "      <td>0.00000090</td>\n",
       "      <td>0.00000088</td>\n",
       "      <td>0.00000089</td>\n",
       "      <td>0.00000000</td>\n",
       "      <td>0.00000000</td>\n",
       "      <td>0.00000000</td>\n",
       "    </tr>\n",
       "    <tr>\n",
       "      <th>50%</th>\n",
       "      <td>0.00000129</td>\n",
       "      <td>0.00000130</td>\n",
       "      <td>0.00000128</td>\n",
       "      <td>0.00000129</td>\n",
       "      <td>0.00000000</td>\n",
       "      <td>0.00000000</td>\n",
       "      <td>0.00000000</td>\n",
       "    </tr>\n",
       "    <tr>\n",
       "      <th>75%</th>\n",
       "      <td>0.00000273</td>\n",
       "      <td>0.00000282</td>\n",
       "      <td>0.00000271</td>\n",
       "      <td>0.00000273</td>\n",
       "      <td>2.00000000</td>\n",
       "      <td>0.00158323</td>\n",
       "      <td>0.00000000</td>\n",
       "    </tr>\n",
       "    <tr>\n",
       "      <th>max</th>\n",
       "      <td>0.00025000</td>\n",
       "      <td>0.00025000</td>\n",
       "      <td>0.00025000</td>\n",
       "      <td>0.00025000</td>\n",
       "      <td>96.00000000</td>\n",
       "      <td>0.83779993</td>\n",
       "      <td>310386.29789259</td>\n",
       "    </tr>\n",
       "  </tbody>\n",
       "</table>\n",
       "</div>"
      ],
      "text/plain": [
       "                open           high            low          close  \\\n",
       "count  7492.00000000  7492.00000000  7492.00000000  7492.00000000   \n",
       "mean      0.00000317     0.00000324     0.00000314     0.00000317   \n",
       "std       0.00001551     0.00001577     0.00001549     0.00001551   \n",
       "min       0.00000000     0.00000000     0.00000000     0.00000000   \n",
       "25%       0.00000089     0.00000090     0.00000088     0.00000089   \n",
       "50%       0.00000129     0.00000130     0.00000128     0.00000129   \n",
       "75%       0.00000273     0.00000282     0.00000271     0.00000273   \n",
       "max       0.00025000     0.00025000     0.00025000     0.00025000   \n",
       "\n",
       "               count         volume         quantity  \n",
       "count  7492.00000000  7492.00000000    7492.00000000  \n",
       "mean      3.05032034     0.00435524    1869.82592507  \n",
       "std      10.72815529     0.02047787   10152.39684831  \n",
       "min       0.00000000     0.00000000       0.00000000  \n",
       "25%       0.00000000     0.00000000       0.00000000  \n",
       "50%       0.00000000     0.00000000       0.00000000  \n",
       "75%       2.00000000     0.00158323       0.00000000  \n",
       "max      96.00000000     0.83779993  310386.29789259  "
      ]
     },
     "execution_count": 213,
     "metadata": {},
     "output_type": "execute_result"
    }
   ],
   "source": [
    "df.describe()"
   ]
  },
  {
   "cell_type": "code",
   "execution_count": 203,
   "metadata": {},
   "outputs": [
    {
     "data": {
      "text/plain": [
       "<matplotlib.axes._subplots.AxesSubplot at 0x7f0d3489a400>"
      ]
     },
     "execution_count": 203,
     "metadata": {},
     "output_type": "execute_result"
    },
    {
     "data": {
      "image/png": "[encoded data removed]",
      "text/plain": [
       "<Figure size 432x288 with 1 Axes>"
      ]
     },
     "metadata": {
      "needs_background": "light"
     },
     "output_type": "display_data"
    }
   ],
   "source": [
    "df.plot(y='close', logy=True)"
   ]
  },
  {
   "cell_type": "markdown",
   "metadata": {},
   "source": [
    "-------\n",
    "## Training"
   ]
  },
  {
   "cell_type": "code",
   "execution_count": 241,
   "metadata": {},
   "outputs": [
    {
     "name": "stdout",
     "output_type": "stream",
     "text": [
      "<class 'pandas.core.frame.DataFrame'>\n",
      "DatetimeIndex: 6992 entries, 2019-07-29 02:00:00+00:00 to 2020-02-22 13:00:00+00:00\n",
      "Data columns (total 1 columns):\n",
      " #   Column  Non-Null Count  Dtype  \n",
      "---  ------  --------------  -----  \n",
      " 0   close   6992 non-null   float64\n",
      "dtypes: float64(1)\n",
      "memory usage: 109.2 KB\n"
     ]
    }
   ],
   "source": [
    "hist=df[['close']][500:]\n",
    "hist.info()\n",
    "hist=hist.fillna(method='ffill')\n",
    "\n",
    "scaler = MinMaxScaler(feature_range=(-1, 1))\n",
    "hist['close'] = scaler.fit_transform(hist['close'].values.reshape(-1,1))"
   ]
  },
  {
   "cell_type": "code",
   "execution_count": 242,
   "metadata": {},
   "outputs": [
    {
     "name": "stdout",
     "output_type": "stream",
     "text": [
      "x_train.shape =  (5574, 23, 1)\n",
      "y_train.shape =  (5574, 1)\n",
      "x_test.shape =  (1394, 23, 1)\n",
      "y_test.shape =  (1394, 1)\n"
     ]
    }
   ],
   "source": [
    "# function to create train, test data given stock data and sequence length\n",
    "def load_data(stock, look_back):\n",
    "    data_raw = stock.to_numpy()  # convert to numpy array\n",
    "    data = []\n",
    "    \n",
    "    # create all possible sequences of length seq_len\n",
    "    for index in range(len(data_raw) - look_back): \n",
    "        data.append(data_raw[index: index + look_back])\n",
    "    \n",
    "    data = np.array(data);\n",
    "    test_set_size = int(np.round(0.2*data.shape[0]));\n",
    "    train_set_size = data.shape[0] - (test_set_size);\n",
    "    \n",
    "    x_train = data[:train_set_size,:-1,:]\n",
    "    y_train = data[:train_set_size,-1,:]\n",
    "    \n",
    "    x_test = data[train_set_size:,:-1]\n",
    "    y_test = data[train_set_size:,-1,:]\n",
    "    \n",
    "    return [x_train, y_train, x_test, y_test]\n",
    "\n",
    "look_back = 24 # choose sequence length\n",
    "x_train, y_train, x_test, y_test = load_data(hist, look_back)\n",
    "print('x_train.shape = ',x_train.shape)\n",
    "print('y_train.shape = ',y_train.shape)\n",
    "print('x_test.shape = ',x_test.shape)\n",
    "print('y_test.shape = ',y_test.shape)"
   ]
  },
  {
   "cell_type": "code",
   "execution_count": 243,
   "metadata": {},
   "outputs": [],
   "source": [
    "x_train = torch.from_numpy(x_train).type(torch.Tensor)\n",
    "x_test = torch.from_numpy(x_test).type(torch.Tensor)\n",
    "y_train = torch.from_numpy(y_train).type(torch.Tensor)\n",
    "y_test = torch.from_numpy(y_test).type(torch.Tensor)"
   ]
  },
  {
   "cell_type": "code",
   "execution_count": 244,
   "metadata": {},
   "outputs": [],
   "source": [
    "n_steps = look_back-1\n",
    "batch_size = 1606\n",
    "#n_iters = 3000\n",
    "num_epochs = 100 #n_iters / (len(train_X) / batch_size)\n",
    "#num_epochs = int(num_epochs)\n",
    "\n",
    "train = torch.utils.data.TensorDataset(x_train,y_train)\n",
    "test = torch.utils.data.TensorDataset(x_test,y_test)\n",
    "\n",
    "train_loader = torch.utils.data.DataLoader(dataset=train, \n",
    "                                           batch_size=batch_size, \n",
    "                                           shuffle=False)\n",
    "\n",
    "test_loader = torch.utils.data.DataLoader(dataset=test, \n",
    "                                          batch_size=batch_size, \n",
    "                                          shuffle=False)"
   ]
  },
  {
   "cell_type": "code",
   "execution_count": 245,
   "metadata": {},
   "outputs": [
    {
     "name": "stdout",
     "output_type": "stream",
     "text": [
      "LSTM(\n",
      "  (lstm): LSTM(1, 32, num_layers=2, batch_first=True)\n",
      "  (fc): Linear(in_features=32, out_features=1, bias=True)\n",
      ")\n",
      "10\n",
      "torch.Size([128, 1])\n",
      "torch.Size([128, 32])\n",
      "torch.Size([128])\n",
      "torch.Size([128])\n",
      "torch.Size([128, 32])\n",
      "torch.Size([128, 32])\n",
      "torch.Size([128])\n",
      "torch.Size([128])\n",
      "torch.Size([1, 32])\n",
      "torch.Size([1])\n"
     ]
    },
    {
     "name": "stderr",
     "output_type": "stream",
     "text": [
      "/home/collin/.virtualenvs/safex_trading_bot/lib/python3.6/site-packages/torch/nn/_reduction.py:43: UserWarning: size_average and reduce args will be deprecated, please use reduction='mean' instead.\n",
      "  warnings.warn(warning.format(ret))\n"
     ]
    }
   ],
   "source": [
    "# Build model\n",
    "#####################\n",
    "input_dim = 1\n",
    "hidden_dim = 32\n",
    "num_layers = 2 \n",
    "output_dim = 1\n",
    "\n",
    "\n",
    "# Here we define our model as a class\n",
    "class LSTM(nn.Module):\n",
    "    def __init__(self, input_dim, hidden_dim, num_layers, output_dim):\n",
    "        super(LSTM, self).__init__()\n",
    "        # Hidden dimensions\n",
    "        self.hidden_dim = hidden_dim\n",
    "\n",
    "        # Number of hidden layers\n",
    "        self.num_layers = num_layers\n",
    "\n",
    "        # Building your LSTM\n",
    "        # batch_first=True causes input/output tensors to be of shape\n",
    "        # (batch_dim, seq_dim, feature_dim)\n",
    "        self.lstm = nn.LSTM(input_dim, hidden_dim, num_layers, batch_first=True)\n",
    "\n",
    "        # Readout layer\n",
    "        self.fc = nn.Linear(hidden_dim, output_dim)\n",
    "\n",
    "    def forward(self, x):\n",
    "        # Initialize hidden state with zeros\n",
    "        h0 = torch.zeros(self.num_layers, x.size(0), self.hidden_dim).requires_grad_()\n",
    "\n",
    "        # Initialize cell state\n",
    "        c0 = torch.zeros(self.num_layers, x.size(0), self.hidden_dim).requires_grad_()\n",
    "\n",
    "        # One time step\n",
    "        # We need to detach as we are doing truncated backpropagation through time (BPTT)\n",
    "        # If we don't, we'll backprop all the way to the start even after going through another batch\n",
    "        out, (hn, cn) = self.lstm(x, (h0.detach(), c0.detach()))\n",
    "\n",
    "        # Index hidden state of last time step\n",
    "        # out.size() --> 100, 28, 100\n",
    "        # out[:, -1, :] --> 100, 100 --> just want last time step hidden states! \n",
    "        out = self.fc(out[:, -1, :]) \n",
    "        # out.size() --> 100, 10\n",
    "        return out\n",
    "    \n",
    "model = LSTM(input_dim=input_dim, hidden_dim=hidden_dim, output_dim=output_dim, num_layers=num_layers)\n",
    "\n",
    "loss_fn = torch.nn.MSELoss(size_average=True)\n",
    "\n",
    "optimiser = torch.optim.Adam(model.parameters(), lr=0.01)\n",
    "print(model)\n",
    "print(len(list(model.parameters())))\n",
    "for i in range(len(list(model.parameters()))):\n",
    "    print(list(model.parameters())[i].size())"
   ]
  },
  {
   "cell_type": "code",
   "execution_count": 246,
   "metadata": {},
   "outputs": [
    {
     "name": "stdout",
     "output_type": "stream",
     "text": [
      "Epoch  10 MSE:  0.09020380675792694\n",
      "Epoch  20 MSE:  0.02730281837284565\n",
      "Epoch  30 MSE:  0.015924328938126564\n",
      "Epoch  40 MSE:  0.009566751308739185\n",
      "Epoch  50 MSE:  0.00781294796615839\n",
      "Epoch  60 MSE:  0.006734662689268589\n",
      "Epoch  70 MSE:  0.006256105378270149\n",
      "Epoch  80 MSE:  0.005961602553725243\n",
      "Epoch  90 MSE:  0.005729197058826685\n"
     ]
    }
   ],
   "source": [
    "\n",
    "thing = np.zeros(num_epochs)\n",
    "\n",
    "# Number of steps to unroll\n",
    "seq_dim =look_back-1  \n",
    "\n",
    "for t in range(num_epochs):\n",
    "    # Initialise hidden state\n",
    "    # Don't do this if you want your LSTM to be stateful\n",
    "    #model.hidden = model.init_hidden()\n",
    "    \n",
    "    # Forward pass\n",
    "    y_train_pred = model(x_train)\n",
    "\n",
    "    loss = loss_fn(y_train_pred, y_train)\n",
    "    if t % 10 == 0 and t !=0:\n",
    "        print(\"Epoch \", t, \"MSE: \", loss.item())\n",
    "    thing[t] = loss.item()\n",
    "\n",
    "    # Zero out gradient, else they will accumulate between epochs\n",
    "    optimiser.zero_grad()\n",
    "\n",
    "    # Backward pass\n",
    "    loss.backward()\n",
    "\n",
    "    # Update parameters\n",
    "    optimiser.step()"
   ]
  },
  {
   "cell_type": "code",
   "execution_count": 247,
   "metadata": {},
   "outputs": [
    {
     "data": {
      "image/png": "[encoded data removed]",
      "text/plain": [
       "<Figure size 432x288 with 1 Axes>"
      ]
     },
     "metadata": {
      "needs_background": "light"
     },
     "output_type": "display_data"
    },
    {
     "data": {
      "image/png": "[encoded data removed]",
      "text/plain": [
       "<Figure size 432x288 with 1 Axes>"
      ]
     },
     "metadata": {
      "needs_background": "light"
     },
     "output_type": "display_data"
    }
   ],
   "source": [
    "plt.plot(y_train_pred.detach().numpy(), label=\"Preds\")\n",
    "plt.plot(y_train.detach().numpy(), label=\"Data\")\n",
    "plt.legend()\n",
    "plt.show()\n",
    "\n",
    "plt.plot(hist, label=\"Training loss\")\n",
    "plt.legend()\n",
    "plt.show()\n"
   ]
  },
  {
   "cell_type": "code",
   "execution_count": 248,
   "metadata": {},
   "outputs": [
    {
     "data": {
      "text/plain": [
       "torch.Size([5574, 1])"
      ]
     },
     "execution_count": 248,
     "metadata": {},
     "output_type": "execute_result"
    }
   ],
   "source": [
    "np.shape(y_train_pred)"
   ]
  },
  {
   "cell_type": "code",
   "execution_count": 249,
   "metadata": {},
   "outputs": [
    {
     "name": "stdout",
     "output_type": "stream",
     "text": [
      "Train Score: 0.00 RMSE\n",
      "Test Score: 0.00 RMSE\n"
     ]
    }
   ],
   "source": [
    "# make predictions\n",
    "y_test_pred = model(x_test)\n",
    "\n",
    "# invert predictions\n",
    "y_train_pred = scaler.inverse_transform(y_train_pred.detach().numpy())\n",
    "y_train = scaler.inverse_transform(y_train.detach().numpy())\n",
    "y_test_pred = scaler.inverse_transform(y_test_pred.detach().numpy())\n",
    "y_test = scaler.inverse_transform(y_test.detach().numpy())\n",
    "\n",
    "# calculate root mean squared error\n",
    "trainScore = math.sqrt(mean_squared_error(y_train[:,0], y_train_pred[:,0]))\n",
    "print('Train Score: %.2f RMSE' % (trainScore))\n",
    "testScore = math.sqrt(mean_squared_error(y_test[:,0], y_test_pred[:,0]))\n",
    "print('Test Score: %.2f RMSE' % (testScore))"
   ]
  },
  {
   "cell_type": "code",
   "execution_count": 250,
   "metadata": {},
   "outputs": [
    {
     "data": {
      "image/png": "[encoded data removed]",
      "text/plain": [
       "<Figure size 1080x576 with 1 Axes>"
      ]
     },
     "metadata": {
      "needs_background": "light"
     },
     "output_type": "display_data"
    }
   ],
   "source": [
    "# shift train predictions for plotting\n",
    "trainPredictPlot = np.empty_like(hist)\n",
    "trainPredictPlot[:, :] = np.nan\n",
    "trainPredictPlot[look_back:len(y_train_pred)+look_back, :] = y_train_pred\n",
    "\n",
    "# shift test predictions for plotting\n",
    "testPredictPlot = np.empty_like(hist)\n",
    "testPredictPlot[:, :] = np.nan\n",
    "testPredictPlot[len(y_train_pred)+look_back-1:len(hist)-1, :] = y_test_pred\n",
    "\n",
    "# plot baseline and predictions\n",
    "plt.figure(figsize=(15,8))\n",
    "plt.plot(scaler.inverse_transform(hist))\n",
    "plt.plot(trainPredictPlot)\n",
    "plt.plot(testPredictPlot)\n",
    "plt.show()"
   ]
  },
  {
   "cell_type": "code",
   "execution_count": null,
   "metadata": {},
   "outputs": [],
   "source": []
  }
 ],
 "metadata": {
  "kernelspec": {
   "display_name": "safex_trading_bot",
   "language": "python",
   "name": "safex_trading_bot"
  },
  "language_info": {
   "codemirror_mode": {
    "name": "ipython",
    "version": 3
   },
   "file_extension": ".py",
   "mimetype": "text/x-python",
   "name": "python",
   "nbconvert_exporter": "python",
   "pygments_lexer": "ipython3",
   "version": "3.6.9"
  }
 },
 "nbformat": 4,
 "nbformat_minor": 4
}
