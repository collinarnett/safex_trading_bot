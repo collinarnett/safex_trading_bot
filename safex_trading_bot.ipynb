{
 "cells": [
  {
   "cell_type": "markdown",
   "metadata": {},
   "source": [
    "## Setup"
   ]
  },
  {
   "cell_type": "code",
   "execution_count": 79,
   "metadata": {},
   "outputs": [],
   "source": [
    "import requests\n",
    "from time import sleep\n",
    "import pandas as pd\n",
    "from tqdm.notebook import tqdm\n",
    "import pickle\n",
    "import matplotlib.pyplot as plt\n",
    "import numpy as np\n",
    "pd.set_option(\"display.precision\", 8)"
   ]
  },
  {
   "cell_type": "code",
   "execution_count": 37,
   "metadata": {},
   "outputs": [
    {
     "data": {
      "application/vnd.jupyter.widget-view+json": {
       "model_id": "83bce1fec01e4fc8a0f47f76bd0a8dde",
       "version_major": 2,
       "version_minor": 0
      },
      "text/plain": [
       "HBox(children=(FloatProgress(value=1.0, bar_style='info', max=1.0), HTML(value='')))"
      ]
     },
     "metadata": {},
     "output_type": "display_data"
    }
   ],
   "source": [
    "base = \"https://app.xcalibra.com/api/public/v1/price-history/SFX_BTC\"\n",
    "payload = {'interval':'minute','limit':1000}\n",
    "\n",
    "r = requests.get(base,params=payload).json()\n",
    "data = []\n",
    "pbar = tqdm()\n",
    "while(r[0]['open'] != 0):\n",
    "    to_timestamp = r[0]['timestamp']\n",
    "    payload = {'interval':'minute', 'to_timestamp': to_timestamp, 'limit':1000}\n",
    "    r = requests.get(base, params=payload).json()\n",
    "    data.append(r)\n",
    "    pbar.update()\n",
    "\n",
    "cleaned_data = [item for sublist in data for item in sublist]\n",
    "df = pd.DataFrame(cleaned_data)\n",
    "df.fillna(value=0, inplace=True)\n",
    "df.iloc[:] = df.iloc[::-1].values\n",
    "df[['volume','quantity']] = df[['volume','quantity']].apply(pd.to_numeric)\n",
    "df.to_csv(\"dataset.csv\")"
   ]
  },
  {
   "cell_type": "code",
   "execution_count": 67,
   "metadata": {},
   "outputs": [
    {
     "data": {
      "text/html": [
       "<div>\n",
       "<style scoped>\n",
       "    .dataframe tbody tr th:only-of-type {\n",
       "        vertical-align: middle;\n",
       "    }\n",
       "\n",
       "    .dataframe tbody tr th {\n",
       "        vertical-align: top;\n",
       "    }\n",
       "\n",
       "    .dataframe thead th {\n",
       "        text-align: right;\n",
       "    }\n",
       "</style>\n",
       "<table border=\"1\" class=\"dataframe\">\n",
       "  <thead>\n",
       "    <tr style=\"text-align: right;\">\n",
       "      <th></th>\n",
       "      <th>open</th>\n",
       "      <th>high</th>\n",
       "      <th>low</th>\n",
       "      <th>close</th>\n",
       "      <th>count</th>\n",
       "      <th>volume</th>\n",
       "      <th>quantity</th>\n",
       "    </tr>\n",
       "  </thead>\n",
       "  <tbody>\n",
       "    <tr>\n",
       "      <th>count</th>\n",
       "      <td>504000.00000000</td>\n",
       "      <td>504000.00000000</td>\n",
       "      <td>504000.00000000</td>\n",
       "      <td>504000.00000000</td>\n",
       "      <td>504000.00000000</td>\n",
       "      <td>504000.00000000</td>\n",
       "      <td>504000.00000000</td>\n",
       "    </tr>\n",
       "    <tr>\n",
       "      <th>mean</th>\n",
       "      <td>0.00000302</td>\n",
       "      <td>0.00000302</td>\n",
       "      <td>0.00000302</td>\n",
       "      <td>0.00000302</td>\n",
       "      <td>0.06485714</td>\n",
       "      <td>0.00009251</td>\n",
       "      <td>47.01453466</td>\n",
       "    </tr>\n",
       "    <tr>\n",
       "      <th>std</th>\n",
       "      <td>0.00001481</td>\n",
       "      <td>0.00001481</td>\n",
       "      <td>0.00001481</td>\n",
       "      <td>0.00001481</td>\n",
       "      <td>0.45041901</td>\n",
       "      <td>0.00219194</td>\n",
       "      <td>1239.89825631</td>\n",
       "    </tr>\n",
       "    <tr>\n",
       "      <th>min</th>\n",
       "      <td>0.00000000</td>\n",
       "      <td>0.00000000</td>\n",
       "      <td>0.00000000</td>\n",
       "      <td>0.00000000</td>\n",
       "      <td>0.00000000</td>\n",
       "      <td>0.00000000</td>\n",
       "      <td>0.00000000</td>\n",
       "    </tr>\n",
       "    <tr>\n",
       "      <th>25%</th>\n",
       "      <td>0.00000093</td>\n",
       "      <td>0.00000093</td>\n",
       "      <td>0.00000093</td>\n",
       "      <td>0.00000093</td>\n",
       "      <td>0.00000000</td>\n",
       "      <td>0.00000000</td>\n",
       "      <td>0.00000000</td>\n",
       "    </tr>\n",
       "    <tr>\n",
       "      <th>50%</th>\n",
       "      <td>0.00000134</td>\n",
       "      <td>0.00000134</td>\n",
       "      <td>0.00000134</td>\n",
       "      <td>0.00000134</td>\n",
       "      <td>0.00000000</td>\n",
       "      <td>0.00000000</td>\n",
       "      <td>0.00000000</td>\n",
       "    </tr>\n",
       "    <tr>\n",
       "      <th>75%</th>\n",
       "      <td>0.00000233</td>\n",
       "      <td>0.00000233</td>\n",
       "      <td>0.00000233</td>\n",
       "      <td>0.00000233</td>\n",
       "      <td>0.00000000</td>\n",
       "      <td>0.00000000</td>\n",
       "      <td>0.00000000</td>\n",
       "    </tr>\n",
       "    <tr>\n",
       "      <th>max</th>\n",
       "      <td>0.00025000</td>\n",
       "      <td>0.00025000</td>\n",
       "      <td>0.00025000</td>\n",
       "      <td>0.00025000</td>\n",
       "      <td>62.00000000</td>\n",
       "      <td>0.57190893</td>\n",
       "      <td>237404.00664171</td>\n",
       "    </tr>\n",
       "  </tbody>\n",
       "</table>\n",
       "</div>"
      ],
      "text/plain": [
       "                  open             high              low            close  \\\n",
       "count  504000.00000000  504000.00000000  504000.00000000  504000.00000000   \n",
       "mean        0.00000302       0.00000302       0.00000302       0.00000302   \n",
       "std         0.00001481       0.00001481       0.00001481       0.00001481   \n",
       "min         0.00000000       0.00000000       0.00000000       0.00000000   \n",
       "25%         0.00000093       0.00000093       0.00000093       0.00000093   \n",
       "50%         0.00000134       0.00000134       0.00000134       0.00000134   \n",
       "75%         0.00000233       0.00000233       0.00000233       0.00000233   \n",
       "max         0.00025000       0.00025000       0.00025000       0.00025000   \n",
       "\n",
       "                 count           volume         quantity  \n",
       "count  504000.00000000  504000.00000000  504000.00000000  \n",
       "mean        0.06485714       0.00009251      47.01453466  \n",
       "std         0.45041901       0.00219194    1239.89825631  \n",
       "min         0.00000000       0.00000000       0.00000000  \n",
       "25%         0.00000000       0.00000000       0.00000000  \n",
       "50%         0.00000000       0.00000000       0.00000000  \n",
       "75%         0.00000000       0.00000000       0.00000000  \n",
       "max        62.00000000       0.57190893  237404.00664171  "
      ]
     },
     "execution_count": 67,
     "metadata": {},
     "output_type": "execute_result"
    }
   ],
   "source": [
    "df.describe()"
   ]
  },
  {
   "cell_type": "markdown",
   "metadata": {},
   "source": [
    "-------\n",
    "## Training"
   ]
  },
  {
   "cell_type": "code",
   "execution_count": 80,
   "metadata": {},
   "outputs": [
    {
     "name": "stderr",
     "output_type": "stream",
     "text": [
      "/home/collin/.virtualenvs/safex_trading_bot/lib/python3.6/site-packages/pandas/core/series.py:679: RuntimeWarning: divide by zero encountered in log\n",
      "  result = getattr(ufunc, method)(*inputs, **kwargs)\n"
     ]
    },
    {
     "data": {
      "image/png": "[encoded data removed]",
      "text/plain": [
       "<Figure size 936x504 with 1 Axes>"
      ]
     },
     "metadata": {
      "needs_background": "light"
     },
     "output_type": "display_data"
    }
   ],
   "source": [
    "hist = df\n",
    "def train_test_split(df, test_size=0.2):\n",
    "    split_row = len(df) - int(test_size * len(df))\n",
    "    train_data = df.iloc[:split_row]\n",
    "    test_data = df.iloc[split_row:]\n",
    "    return train_data, test_data\n",
    "\n",
    "train, test = train_test_split(hist, test_size=0.05)\n",
    "\n",
    "def line_plot(line1, line2, label1=None, label2=None, title='', lw=2):\n",
    "    fig, ax = plt.subplots(1, figsize=(13, 7))\n",
    "    ax.plot(line1, label=label1, linewidth=lw)\n",
    "    ax.plot(line2, label=label2, linewidth=lw)\n",
    "    ax.set_ylabel('BTC', fontsize=14)\n",
    "    ax.set_title(title, fontsize=16)\n",
    "    ax.legend(loc='best', fontsize=16)\n",
    "\n",
    "line_plot(np.log(train['close']), np.log(test['close']), 'training', 'test', title='SFX/BTC')"
   ]
  },
  {
   "cell_type": "code",
   "execution_count": null,
   "metadata": {},
   "outputs": [],
   "source": [
    "def normalise_zero_base(df):\n",
    "    return df / df.iloc[0] - 1\n",
    "\n",
    "def normalise_min_max(df):\n",
    "    return (df - df.min()) / (data.max() - df.min())\n",
    "\n",
    "def extract_window_data(df, window_len=5, zero_base=True):\n",
    "    window_data = []\n",
    "    for idx in range(len(df) - window_len):\n",
    "        tmp = df[idx: (idx + window_len)].copy()\n",
    "        if zero_base:\n",
    "            tmp = normalise_zero_base(tmp)\n",
    "        window_data.append(tmp.values)\n",
    "    return np.array(window_data)\n",
    "\n",
    "def prepare_data(df, target_col, window_len=10, zero_base=True, test_size=0.2):\n",
    "    train_data, test_data = train_test_split(df, test_size=test_size)\n",
    "    X_train = extract_window_data(train_data, window_len, zero_base)\n",
    "    X_test = extract_window_data(test_data, window_len, zero_base)\n",
    "    y_train = train_data[target_col][window_len:].values\n",
    "    y_test = test_data[target_col][window_len:].values\n",
    "    if zero_base:\n",
    "        y_train = y_train / train_data[target_col][:-window_len].values - 1\n",
    "        y_test = y_test / test_data[target_col][:-window_len].values - 1\n",
    "\n",
    "    return train_data, test_data, X_train, X_test, y_train, y_test"
   ]
  }
 ],
 "metadata": {
  "kernelspec": {
   "display_name": "safex_trading_bot",
   "language": "python",
   "name": "safex_trading_bot"
  },
  "language_info": {
   "codemirror_mode": {
    "name": "ipython",
    "version": 3
   },
   "file_extension": ".py",
   "mimetype": "text/x-python",
   "name": "python",
   "nbconvert_exporter": "python",
   "pygments_lexer": "ipython3",
   "version": "3.6.9"
  }
 },
 "nbformat": 4,
 "nbformat_minor": 4
}
